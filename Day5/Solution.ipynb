{
  "nbformat": 4,
  "nbformat_minor": 0,
  "metadata": {
    "colab": {
      "provenance": [],
      "authorship_tag": "ABX9TyNtUZL3J184RIkEW6Szk8MG",
      "include_colab_link": true
    },
    "kernelspec": {
      "name": "python3",
      "display_name": "Python 3"
    },
    "language_info": {
      "name": "python"
    }
  },
  "cells": [
    {
      "cell_type": "markdown",
      "metadata": {
        "id": "view-in-github",
        "colab_type": "text"
      },
      "source": [
        "<a href=\"https://colab.research.google.com/github/siren7075/Aoc2022/blob/main/Day5/Solution.ipynb\" target=\"_parent\"><img src=\"https://colab.research.google.com/assets/colab-badge.svg\" alt=\"Open In Colab\"/></a>"
      ]
    },
    {
      "cell_type": "markdown",
      "source": [
        "Part 1"
      ],
      "metadata": {
        "id": "0gAZuaFgT2Dz"
      }
    },
    {
      "cell_type": "code",
      "source": [
        "import re"
      ],
      "metadata": {
        "id": "0t-jEzm6wj-U"
      },
      "execution_count": 7,
      "outputs": []
    },
    {
      "cell_type": "code",
      "source": [
        "def move(command):\n",
        "  quantity = re.search('move (.*) from', command)\n",
        "  fromStack = re.search('from (.*) to', command)\n",
        "  toStack = re.search('to (.*)', command)\n",
        "  return int(quantity.group(1)), int(fromStack.group(1)), int(toStack.group(1))\n",
        "\n",
        "def create_stacks(lines):\n",
        "  stacks = []\n",
        "  for line in lines:\n",
        "    if line == '':\n",
        "        break\n",
        "    totalStack = (len(line)+1)//4\n",
        "    while len(stacks) < totalStack:\n",
        "        stacks.append([])\n",
        "    for i in range(len(stacks)):\n",
        "        char = line[1+4*i]\n",
        "        if char.isalpha():\n",
        "            stacks[i].append(char)\n",
        "  return stacks\n",
        "\n",
        "def create_commands(lines):\n",
        "  commands = []\n",
        "  split = False\n",
        "  for command in lines:\n",
        "    if command == '':\n",
        "        split = True\n",
        "        continue\n",
        "    if not split:\n",
        "        continue\n",
        "    if split:\n",
        "      commands.append(command)\n",
        "  return commands\n",
        "\n",
        "tops = []\n",
        "with open(\"/input.txt\") as f: \n",
        "  lines = [ x for x in f.read().splitlines()]\n",
        "  stacks = create_stacks(lines)\n",
        "  commands = create_commands(lines)\n",
        "  for cmd in commands:\n",
        "    quantity, fromStack, toStack = move(cmd)\n",
        "    cratesToMove = stacks[fromStack-1][:quantity]\n",
        "    stacks[fromStack-1] = stacks[fromStack-1][quantity:]\n",
        "    # part 1\n",
        "    # stacks[toStack-1] = list(reversed(cratesToMove)) + stacks[toStack-1]\n",
        "    # part 2\n",
        "    stacks[toStack-1] = cratesToMove + stacks[toStack-1]\n",
        "    \n",
        "  tops = ''.join([x[0] for x in stacks if len(x)>0])\n",
        "  print(tops)"
      ],
      "metadata": {
        "id": "FmFmbJbCQw7v",
        "colab": {
          "base_uri": "https://localhost:8080/"
        },
        "outputId": "c622815a-d20d-4cde-b172-5d93ce2b3ae1"
      },
      "execution_count": 42,
      "outputs": [
        {
          "output_type": "stream",
          "name": "stdout",
          "text": [
            "RNRGDNFQG\n"
          ]
        }
      ]
    }
  ]
}