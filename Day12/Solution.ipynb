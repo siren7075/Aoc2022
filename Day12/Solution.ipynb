{
  "nbformat": 4,
  "nbformat_minor": 0,
  "metadata": {
    "colab": {
      "provenance": [],
      "authorship_tag": "ABX9TyMSf6dKwa0NH2PDtk763KGM",
      "include_colab_link": true
    },
    "kernelspec": {
      "name": "python3",
      "display_name": "Python 3"
    },
    "language_info": {
      "name": "python"
    }
  },
  "cells": [
    {
      "cell_type": "markdown",
      "metadata": {
        "id": "view-in-github",
        "colab_type": "text"
      },
      "source": [
        "<a href=\"https://colab.research.google.com/github/siren7075/Aoc2022/blob/main/Day12/Solution.ipynb\" target=\"_parent\"><img src=\"https://colab.research.google.com/assets/colab-badge.svg\" alt=\"Open In Colab\"/></a>"
      ]
    },
    {
      "cell_type": "code",
      "source": [
        "import numpy as np\n",
        "import networkx as nx\n",
        "from itertools import product"
      ],
      "metadata": {
        "id": "mHoUMyvVAYBy"
      },
      "execution_count": 19,
      "outputs": []
    },
    {
      "cell_type": "code",
      "source": [
        "def draw(grid):\n",
        "    G = nx.DiGraph()\n",
        "    grid1 = grid.copy()\n",
        "    grid1[grid == \"S\"] = \"a\"\n",
        "    grid1[grid == \"E\"] = \"z\"\n",
        "    for i, j in product(range(grid1.shape[0]), range(grid1.shape[1])):\n",
        "        G.add_node((i, j))\n",
        "    for i, j in product(range(grid1.shape[0]), range(grid1.shape[1])):\n",
        "        if i > 0 and ord(grid1[i - 1, j]) - ord(grid1[i, j]) <= 1:\n",
        "            G.add_edge((i, j), (i - 1, j))\n",
        "        if j > 0 and ord(grid1[i, j - 1]) - ord(grid1[i, j]) <= 1:\n",
        "            G.add_edge((i, j), (i, j - 1))\n",
        "        if i < grid1.shape[0] - 1 and ord(grid1[i + 1, j]) - ord(grid1[i, j]) <= 1:\n",
        "            G.add_edge((i, j), (i + 1, j))\n",
        "        if j < grid1.shape[1] - 1 and ord(grid1[i, j + 1]) - ord(grid1[i, j]) <= 1:\n",
        "            G.add_edge((i, j), (i, j + 1))\n",
        "    return G\n",
        "\n",
        "lines = []\n",
        "with open('/input.txt', 'r') as f:\n",
        "  for line in f:\n",
        "    lines.append(line.strip())\n",
        "  grid = np.array([list(l) for l in lines])\n",
        "  G = draw(grid)\n",
        "  start_vec = np.where(grid == \"S\")[0][0], np.where(grid == \"S\")[1][0]\n",
        "  dest_vec = np.where(grid == \"E\")[0][0], np.where(grid == \"E\")[1][0]\n",
        "  part_1 = nx.shortest_path_length(G, start_vec, dest_vec) \n",
        "\n",
        "  starts = np.where(grid == \"a\")\n",
        "  paths = [nx.shortest_path_length(G, source=start_vec, target=dest_vec)]\n",
        "  for i, j in zip(*starts):\n",
        "      try:\n",
        "          paths.append(nx.shortest_path_length(G, source=(i, j), target=dest_vec))\n",
        "      except:\n",
        "          pass\n",
        "  part_2 = min(paths)\n",
        "\n",
        "print(part_1)\n",
        "print(part_2)"
      ],
      "metadata": {
        "id": "a5WzdEZZ8MJW",
        "outputId": "8b96fbb6-298c-4baf-fa42-3fc1a92a9f15",
        "colab": {
          "base_uri": "https://localhost:8080/"
        }
      },
      "execution_count": 27,
      "outputs": [
        {
          "output_type": "stream",
          "name": "stdout",
          "text": [
            "352\n",
            "345\n"
          ]
        }
      ]
    }
  ]
}