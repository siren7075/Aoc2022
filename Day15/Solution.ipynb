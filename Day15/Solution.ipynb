{
  "nbformat": 4,
  "nbformat_minor": 0,
  "metadata": {
    "colab": {
      "provenance": [],
      "authorship_tag": "ABX9TyP+1EDOz+yrYqMhAL1FUvL3",
      "include_colab_link": true
    },
    "kernelspec": {
      "name": "python3",
      "display_name": "Python 3"
    },
    "language_info": {
      "name": "python"
    }
  },
  "cells": [
    {
      "cell_type": "markdown",
      "metadata": {
        "id": "view-in-github",
        "colab_type": "text"
      },
      "source": [
        "<a href=\"https://colab.research.google.com/github/siren7075/Aoc2022/blob/main/Day15/Solution.ipynb\" target=\"_parent\"><img src=\"https://colab.research.google.com/assets/colab-badge.svg\" alt=\"Open In Colab\"/></a>"
      ]
    },
    {
      "cell_type": "code",
      "source": [
        "import re"
      ],
      "metadata": {
        "id": "HL_ALVXUGy0t",
        "outputId": "897ac76c-2def-463f-e915-f20cb3468f35",
        "colab": {
          "base_uri": "https://localhost:8080/"
        }
      },
      "execution_count": 2,
      "outputs": [
        {
          "output_type": "stream",
          "name": "stdout",
          "text": [
            "Looking in indexes: https://pypi.org/simple, https://us-python.pkg.dev/colab-wheels/public/simple/\n",
            "Requirement already satisfied: z3-solver in /usr/local/lib/python3.8/dist-packages (4.11.2.0)\n"
          ]
        }
      ]
    },
    {
      "cell_type": "code",
      "source": [
        "def parse(line):\n",
        "    xs, ys, xb, yb = [int(item) for item in re.findall(r\"\\d+\", line)]\n",
        "    distance = abs(xs -xb) + abs(ys - yb)\n",
        "    return xs, ys, xb, yb, distance"
      ],
      "metadata": {
        "id": "FgtVWlicUEkh"
      },
      "execution_count": 14,
      "outputs": []
    },
    {
      "cell_type": "markdown",
      "source": [
        "Part 1"
      ],
      "metadata": {
        "id": "uTfowhK2Ilcq"
      }
    },
    {
      "cell_type": "code",
      "source": [
        "lines = []\n",
        "part_1_row = 2000000\n",
        "beacons = set()\n",
        "vecs = set()\n",
        "\n",
        "with open('/input.txt') as f:\n",
        "  lines = [x.strip() for x in f]\n",
        "\n",
        "for line in lines:\n",
        "    xs, ys, xb, yb, distance = parse(line)\n",
        "    distance -= abs(part_1_row - ys)\n",
        "    for vec in range(xs - distance, xs + distance + 1):\n",
        "        vecs.add((vec, part_1_row))\n",
        "    if yb == part_1_row:\n",
        "        beacons.add((xb, yb))\n",
        "print(len(vecs - beacons))"
      ],
      "metadata": {
        "id": "zv0x75VpGVg2",
        "outputId": "17817a76-8059-4265-8046-b75ebcc5ec4a",
        "colab": {
          "base_uri": "https://localhost:8080/"
        }
      },
      "execution_count": 15,
      "outputs": [
        {
          "output_type": "stream",
          "name": "stdout",
          "text": [
            "4907780\n"
          ]
        }
      ]
    },
    {
      "cell_type": "markdown",
      "source": [
        "Part 2"
      ],
      "metadata": {
        "id": "BJeMIGfiImv1"
      }
    },
    {
      "cell_type": "code",
      "source": [
        "!pip install z3-solver\n",
        "import z3"
      ],
      "metadata": {
        "id": "97SN1sl2Tu4D",
        "outputId": "ff2b4970-17d1-4809-f8e5-54ea8b65e50b",
        "colab": {
          "base_uri": "https://localhost:8080/"
        }
      },
      "execution_count": 22,
      "outputs": [
        {
          "output_type": "stream",
          "name": "stdout",
          "text": [
            "Looking in indexes: https://pypi.org/simple, https://us-python.pkg.dev/colab-wheels/public/simple/\n",
            "Requirement already satisfied: z3-solver in /usr/local/lib/python3.8/dist-packages (4.11.2.0)\n"
          ]
        }
      ]
    },
    {
      "cell_type": "code",
      "source": [
        "solver = Solver()\n",
        "x, y = Int(\"x\"), Int(\"y\")\n",
        "solver.add(x >= 0, y >= 0, x <= 4000000, y <= 4000000)\n",
        "\n",
        "for line in lines:\n",
        "    xs, ys, xb, yb, distance = parse(line)\n",
        "    solver.add(Abs(xs - x) + Abs(ys - y) > distance)\n",
        "\n",
        "solver.check()\n",
        "beacon = solver.model()\n",
        "print(beacon[x].as_long() * 4000000 + beacon[y].as_long())"
      ],
      "metadata": {
        "id": "CJREg7ngIeIC",
        "outputId": "8dd30f37-bb03-44e5-b425-3c92ccc4167b",
        "colab": {
          "base_uri": "https://localhost:8080/"
        }
      },
      "execution_count": 21,
      "outputs": [
        {
          "output_type": "stream",
          "name": "stdout",
          "text": [
            "13639962836448\n"
          ]
        }
      ]
    }
  ]
}