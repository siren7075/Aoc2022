{
  "nbformat": 4,
  "nbformat_minor": 0,
  "metadata": {
    "colab": {
      "provenance": [],
      "authorship_tag": "ABX9TyMgUL75UTa9B0Gu+MSugLIj",
      "include_colab_link": true
    },
    "kernelspec": {
      "name": "python3",
      "display_name": "Python 3"
    },
    "language_info": {
      "name": "python"
    }
  },
  "cells": [
    {
      "cell_type": "markdown",
      "metadata": {
        "id": "view-in-github",
        "colab_type": "text"
      },
      "source": [
        "<a href=\"https://colab.research.google.com/github/siren7075/Aoc2022/blob/main/Day11/Solution.ipynb\" target=\"_parent\"><img src=\"https://colab.research.google.com/assets/colab-badge.svg\" alt=\"Open In Colab\"/></a>"
      ]
    },
    {
      "cell_type": "code",
      "source": [
        "import numpy\n",
        "from collections import defaultdict"
      ],
      "metadata": {
        "id": "PxLte4XeyWJx"
      },
      "execution_count": 27,
      "outputs": []
    },
    {
      "cell_type": "code",
      "source": [
        "lines_1 = defaultdict(int)\n",
        "lines_2 = defaultdict(list)\n",
        "lines_3 = defaultdict(int) # Test: divisible by ..\n",
        "lines_4 = defaultdict(int)\n",
        "lines_5 = defaultdict(int)\n",
        "count = defaultdict(int)\n",
        "# part 1\n",
        "# round_no = 20\n",
        "# part 2\n",
        "round_no = 10000\n",
        "\n",
        "with open('/input.txt', 'r') as f:\n",
        "    commands = f.read().strip().split(\"\\n\\n\")\n",
        "    for command in commands:\n",
        "      lines = command.split(\"\\n\")\n",
        "      i = int(lines[0].strip().split(\" \")[1].strip(\":\")[0])\n",
        "      lines_1[i] = [int(i) for i in lines[1].split(\": \")[1].split(\", \")]\n",
        "      lines_2[i] = lines[2].split(\": \")[1].split(\"= \")[1].split(\" \")\n",
        "      lines_3[i] = int(lines[3].split(\" \")[-1])\n",
        "      lines_4[i] = int(lines[4].split(\" \")[-1])\n",
        "      lines_5[i] = int(lines[5].split(\" \")[-1])\n",
        "\n",
        "    for i in range(round_no):\n",
        "        for m in sorted(lines_1):\n",
        "            score = lines_1[m]\n",
        "            move = lines_2[m]\n",
        "            lines_1[m] = []\n",
        "            test = lines_3[m]\n",
        "            t_m = lines_4[m]\n",
        "            f_m = lines_5[m]\n",
        "            for si in score:\n",
        "                count[m] += 1\n",
        "                try:\n",
        "                    v1 = int(move[0])\n",
        "                except:\n",
        "                    v1 = si\n",
        "                try:\n",
        "                    v2 = int(move[2])\n",
        "                except:\n",
        "                    v2 = si\n",
        "                if move[1] == \"+\":\n",
        "                    new = v1 + v2\n",
        "                elif move[1] == \"*\":\n",
        "                    new = v1 * v2\n",
        "                new %= numpy.prod(list(lines_3.values()))\n",
        "                if round_no == 20:\n",
        "                    new = new//3\n",
        "                if new%test == 0:\n",
        "                    lines_1[t_m].append(new)\n",
        "                else:\n",
        "                    lines_1[f_m].append(new)\n",
        "\n",
        "    counts = sorted(count.values())\n",
        "    print(counts[-1]*counts[-2])"
      ],
      "metadata": {
        "id": "HOURwPjZuJwV",
        "outputId": "6ab78667-9eb3-4733-ed8b-30823519d3bb",
        "colab": {
          "base_uri": "https://localhost:8080/"
        }
      },
      "execution_count": 37,
      "outputs": [
        {
          "output_type": "stream",
          "name": "stdout",
          "text": [
            "12729522272\n"
          ]
        }
      ]
    }
  ]
}