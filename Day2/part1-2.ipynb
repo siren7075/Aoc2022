{
  "nbformat": 4,
  "nbformat_minor": 0,
  "metadata": {
    "colab": {
      "provenance": [],
      "authorship_tag": "ABX9TyPEuZFpMTD/hRgGJp18lBS1",
      "include_colab_link": true
    },
    "kernelspec": {
      "name": "python3",
      "display_name": "Python 3"
    },
    "language_info": {
      "name": "python"
    }
  },
  "cells": [
    {
      "cell_type": "markdown",
      "metadata": {
        "id": "view-in-github",
        "colab_type": "text"
      },
      "source": [
        "<a href=\"https://colab.research.google.com/github/siren7075/Aoc2022/blob/main/Day2/part1-2.ipynb\" target=\"_parent\"><img src=\"https://colab.research.google.com/assets/colab-badge.svg\" alt=\"Open In Colab\"/></a>"
      ]
    },
    {
      "cell_type": "markdown",
      "source": [
        "Part 1"
      ],
      "metadata": {
        "id": "0gAZuaFgT2Dz"
      }
    },
    {
      "cell_type": "code",
      "source": [
        "opp = []\n",
        "me = []\n",
        "score = 0\n",
        "\n",
        "with open(\"/input.txt\") as f: \n",
        "  for d in f.read().splitlines():\n",
        "      opp.append(d.split(\" \")[0])\n",
        "      me.append(d.split(\" \")[1])\n",
        "\n",
        "for i in range(len(opp)):\n",
        "    if me[i] == \"X\":\n",
        "      score += 1\n",
        "      if opp[i] == \"A\":\n",
        "        score += 3\n",
        "      elif opp[i] == \"B\":\n",
        "          score += 0\n",
        "      elif opp[i] == \"C\":\n",
        "        score += 6\n",
        "    elif me[i] == \"Y\":\n",
        "      score += 2\n",
        "      if opp[i] == \"A\":\n",
        "        score += 6\n",
        "      if opp[i] == \"B\":\n",
        "        score += 3\n",
        "      if opp[i] == \"C\":\n",
        "        score += 0\n",
        "    elif me[i] == \"Z\":\n",
        "      score += 3\n",
        "      if opp[i] == \"A\":\n",
        "        score += 0\n",
        "      elif opp[i] == \"B\":\n",
        "        score += 6\n",
        "      elif opp[i] == \"C\":\n",
        "        score +=3\n",
        "\n",
        "print(score)"
      ],
      "metadata": {
        "id": "FmFmbJbCQw7v",
        "outputId": "08b3c2a3-ef2f-4974-ac64-c5319b1400f6",
        "colab": {
          "base_uri": "https://localhost:8080/"
        }
      },
      "execution_count": 5,
      "outputs": [
        {
          "output_type": "stream",
          "name": "stdout",
          "text": [
            "9177\n"
          ]
        }
      ]
    },
    {
      "cell_type": "markdown",
      "source": [
        "Part 2"
      ],
      "metadata": {
        "id": "lZojKK3pT74U"
      }
    },
    {
      "cell_type": "code",
      "source": [
        "opp = []\n",
        "me = []\n",
        "score = 0\n",
        "\n",
        "with open(\"/input.txt\") as f: \n",
        "  for d in f.read().splitlines():\n",
        "      opp.append(d.split(\" \")[0])\n",
        "      me.append(d.split(\" \")[1])\n",
        "\n",
        "for i in range(len(opp)):\n",
        "    if me[i] == \"X\":\n",
        "      score += 0\n",
        "      if opp[i] == \"A\":\n",
        "        score += 3\n",
        "      elif opp[i] == \"B\":\n",
        "          score += 1\n",
        "      elif opp[i] == \"C\":\n",
        "        score += 2\n",
        "    elif me[i] == \"Y\":\n",
        "      score += 3\n",
        "      if opp[i] == \"A\":\n",
        "        score += 1\n",
        "      if opp[i] == \"B\":\n",
        "        score += 2\n",
        "      if opp[i] == \"C\":\n",
        "        score += 3\n",
        "    elif me[i] == \"Z\":\n",
        "      score += 6\n",
        "      if opp[i] == \"A\":\n",
        "        score += 2\n",
        "      elif opp[i] == \"B\":\n",
        "        score += 3\n",
        "      elif opp[i] == \"C\":\n",
        "        score += 1\n",
        "\n",
        "print(score)"
      ],
      "metadata": {
        "id": "eh00q3heSk45",
        "outputId": "0befc209-cc52-41f3-d08c-bebc422afd30",
        "colab": {
          "base_uri": "https://localhost:8080/"
        }
      },
      "execution_count": 6,
      "outputs": [
        {
          "output_type": "stream",
          "name": "stdout",
          "text": [
            "12111\n"
          ]
        }
      ]
    }
  ]
}