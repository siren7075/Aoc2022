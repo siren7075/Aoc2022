{
  "nbformat": 4,
  "nbformat_minor": 0,
  "metadata": {
    "colab": {
      "provenance": [],
      "authorship_tag": "ABX9TyPl6C1vH/Vheml4Gfu1Efxh",
      "include_colab_link": true
    },
    "kernelspec": {
      "name": "python3",
      "display_name": "Python 3"
    },
    "language_info": {
      "name": "python"
    }
  },
  "cells": [
    {
      "cell_type": "markdown",
      "metadata": {
        "id": "view-in-github",
        "colab_type": "text"
      },
      "source": [
        "<a href=\"https://colab.research.google.com/github/siren7075/Aoc2022/blob/main/Day3/Solution.ipynb\" target=\"_parent\"><img src=\"https://colab.research.google.com/assets/colab-badge.svg\" alt=\"Open In Colab\"/></a>"
      ]
    },
    {
      "cell_type": "markdown",
      "source": [
        "Part 1"
      ],
      "metadata": {
        "id": "0gAZuaFgT2Dz"
      }
    },
    {
      "cell_type": "code",
      "source": [
        "sum = 0\n",
        "\n",
        "def calculate(char):\n",
        "    if char.islower():\n",
        "        return ord(char)-ord('a') + 1\n",
        "    else:\n",
        "        return ord(char)-ord('A') + 1 + 26\n",
        "\n",
        "with open(\"/input.txt\") as f: \n",
        "  for rs in f:\n",
        "      i = len(rs)//2\n",
        "      str1, str2 = rs[:i], rs[i:]\n",
        "      for char in str1:\n",
        "          if char in str2:\n",
        "             sum += calculate(char)\n",
        "             break\n",
        "print(sum)"
      ],
      "metadata": {
        "id": "ZRQQi6yGNiOg",
        "outputId": "30d013b4-6ee0-48e5-f32b-2035c4022d36",
        "colab": {
          "base_uri": "https://localhost:8080/"
        }
      },
      "execution_count": 54,
      "outputs": [
        {
          "output_type": "stream",
          "name": "stdout",
          "text": [
            "7889\n"
          ]
        }
      ]
    },
    {
      "cell_type": "markdown",
      "source": [
        "Part 2"
      ],
      "metadata": {
        "id": "lZojKK3pT74U"
      }
    },
    {
      "cell_type": "code",
      "source": [
        "i = 0\n",
        "sum = 0\n",
        "\n",
        "with open(\"/input.txt\") as f: \n",
        "  rsList = [d for d in f]\n",
        "\n",
        "while i < len(rsList):\n",
        "  str1, str2, str3 = rsList[i], rsList[i+1],rsList[i+2]\n",
        "  for char in str1:\n",
        "    if char in str2 and char in str3:\n",
        "        sum += calculate(char)\n",
        "        break\n",
        "  i += 3\n",
        "\n",
        "print(sum)"
      ],
      "metadata": {
        "id": "u81c0HniZO35",
        "outputId": "ee19a674-e1c2-46b3-8587-86c2d48da77b",
        "colab": {
          "base_uri": "https://localhost:8080/"
        }
      },
      "execution_count": 53,
      "outputs": [
        {
          "output_type": "stream",
          "name": "stdout",
          "text": [
            "2825\n"
          ]
        }
      ]
    }
  ]
}