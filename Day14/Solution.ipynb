{
  "nbformat": 4,
  "nbformat_minor": 0,
  "metadata": {
    "colab": {
      "provenance": [],
      "authorship_tag": "ABX9TyOPlzGGNzfB7EWKokJ/U87i",
      "include_colab_link": true
    },
    "kernelspec": {
      "name": "python3",
      "display_name": "Python 3"
    },
    "language_info": {
      "name": "python"
    }
  },
  "cells": [
    {
      "cell_type": "markdown",
      "metadata": {
        "id": "view-in-github",
        "colab_type": "text"
      },
      "source": [
        "<a href=\"https://colab.research.google.com/github/siren7075/Aoc2022/blob/main/Day14/Solution.ipynb\" target=\"_parent\"><img src=\"https://colab.research.google.com/assets/colab-badge.svg\" alt=\"Open In Colab\"/></a>"
      ]
    },
    {
      "cell_type": "code",
      "source": [
        "vecs = set()\n",
        "l_y = 0\n",
        "\n",
        "def fall(vecs, isPart2=False):\n",
        "    last = True\n",
        "    count = 0\n",
        "    full = False\n",
        "    while last:\n",
        "        sx, sy = (500,0)\n",
        "        last = False\n",
        "        drop = False\n",
        "        while sy < lowest_y+2:\n",
        "            if isPart2 and sy == lowest_y + 1:\n",
        "                drop = True\n",
        "            elif (sx,sy + 1) not in vecs:\n",
        "                sy = sy +1\n",
        "            elif (sx -1, sy + 1) not in vecs:\n",
        "                sx = sx - 1\n",
        "                sy = sy + 1\n",
        "            elif (sx +1, sy + 1) not in vecs:\n",
        "                sx = sx + 1\n",
        "                sy = sy + 1\n",
        "            else:\n",
        "                drop = True\n",
        "            if drop:\n",
        "                if (sx,sy) in vecs:\n",
        "                    last = False\n",
        "                    break\n",
        "                count +=1\n",
        "                vecs.add((sx, sy))\n",
        "                last = True  \n",
        "                break   \n",
        "    return count \n",
        "\n",
        "with open('/input.txt') as f:\n",
        "  lines =  map(lambda x: x.split(\" -> \"), f.read().split('\\n'))\n",
        "  for line in lines:\n",
        "      p_vec = None\n",
        "      for point in line:\n",
        "          x,y = tuple(map(int, point.split(\",\")))\n",
        "          vecs.add((x,y))\n",
        "          if p_vec:\n",
        "              px,py = p_vec\n",
        "              if px == x: \n",
        "                  for ty in range(y,py, 1 if y < py else -1):\n",
        "                      vecs.add((x,ty))\n",
        "              else: \n",
        "                  for tx in range(x,px, 1 if x < px else -1):\n",
        "                      vecs.add((tx,y))\n",
        "          p_vec = (x,y)\n",
        "          lowest_y = max(y, lowest_y)\n",
        "  #part 1\n",
        "  print(fall(vecs))\n",
        "  #part 2\n",
        "  print(fall(vecs,isPart2=True))"
      ],
      "metadata": {
        "id": "a-C8688CDTHX",
        "outputId": "ff270aa1-a2b7-445c-ac56-0f0eee8018c1",
        "colab": {
          "base_uri": "https://localhost:8080/"
        }
      },
      "execution_count": 15,
      "outputs": [
        {
          "output_type": "stream",
          "name": "stdout",
          "text": [
            "763\n",
            "23158\n"
          ]
        }
      ]
    }
  ]
}