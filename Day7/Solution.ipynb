{
  "nbformat": 4,
  "nbformat_minor": 0,
  "metadata": {
    "colab": {
      "provenance": [],
      "authorship_tag": "ABX9TyMUiGQUD9dSWE7Zspt7B1/z",
      "include_colab_link": true
    },
    "kernelspec": {
      "name": "python3",
      "display_name": "Python 3"
    },
    "language_info": {
      "name": "python"
    }
  },
  "cells": [
    {
      "cell_type": "markdown",
      "metadata": {
        "id": "view-in-github",
        "colab_type": "text"
      },
      "source": [
        "<a href=\"https://colab.research.google.com/github/siren7075/Aoc2022/blob/main/Day7/Solution.ipynb\" target=\"_parent\"><img src=\"https://colab.research.google.com/assets/colab-badge.svg\" alt=\"Open In Colab\"/></a>"
      ]
    },
    {
      "cell_type": "code",
      "source": [
        "class File:\n",
        "  def __init__(self, size):\n",
        "    self._size = size or 0\n",
        "\n",
        "  def size(self):\n",
        "    return self._size\n",
        "\n",
        "class Dir:\n",
        "  def __init__(self, prt):\n",
        "    self.files = {}\n",
        "    self.prt = prt\n",
        "\n",
        "  def add_file(self, file, id):\n",
        "    self.files[id] = file\n",
        "\n",
        "  def size(self):\n",
        "    if len(self.files) == 0:\n",
        "        return 0\n",
        "    else:\n",
        "      return sum(self.files[x].size() for x in self.files)\n"
      ],
      "metadata": {
        "id": "FmFmbJbCQw7v"
      },
      "execution_count": 119,
      "outputs": []
    },
    {
      "cell_type": "code",
      "source": [
        "lines = [x[1:-1] for x in open('/input.txt').read().strip().split(\"$\")[1:]]\n",
        "\n",
        "root = Dir(None)\n",
        "dirs = [root]\n",
        "x = None\n",
        "\n",
        "for line in lines:\n",
        "    if line[:2] == \"cd\":\n",
        "        target = line.split(\" \")[1]\n",
        "        if target == \"/\":\n",
        "            x = root\n",
        "        elif target == \"..\":\n",
        "            x = x.prt\n",
        "        else:\n",
        "            x = x.files[target]\n",
        "    else:\n",
        "        output = line.split(\"\\n\")[1:]\n",
        "        for child in output:\n",
        "            if child[0] == \"d\":\n",
        "                dirs.append(Dir(x))\n",
        "                x.add_file(dirs[-1], child.split(\" \")[1])\n",
        "            else:\n",
        "                x.add_file(File(int(child.split(\" \")[0])), child.split(\" \")[1])\n",
        "\n",
        "# part 1\n",
        "print(sum(filter(lambda x: x < 100000, [x.size() for x in dirs])))\n",
        "\n",
        "# part 2\n",
        "space = 30000000 - (70000000 -  root.size())\n",
        "print(sorted(filter(lambda x: x > space, [x.size() for x in dirs]))[0])"
      ],
      "metadata": {
        "colab": {
          "base_uri": "https://localhost:8080/"
        },
        "id": "hKNQLG0sM3cy",
        "outputId": "f5044575-ef11-4845-ca97-308d8bf27e72"
      },
      "execution_count": 121,
      "outputs": [
        {
          "output_type": "stream",
          "name": "stdout",
          "text": [
            "1648397\n",
            "1815525\n"
          ]
        }
      ]
    }
  ]
}