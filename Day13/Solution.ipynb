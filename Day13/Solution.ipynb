{
  "nbformat": 4,
  "nbformat_minor": 0,
  "metadata": {
    "colab": {
      "provenance": [],
      "authorship_tag": "ABX9TyNdy0tiypQdth50fGIs4lDT",
      "include_colab_link": true
    },
    "kernelspec": {
      "name": "python3",
      "display_name": "Python 3"
    },
    "language_info": {
      "name": "python"
    }
  },
  "cells": [
    {
      "cell_type": "markdown",
      "metadata": {
        "id": "view-in-github",
        "colab_type": "text"
      },
      "source": [
        "<a href=\"https://colab.research.google.com/github/siren7075/Aoc2022/blob/main/Day13/Solution.ipynb\" target=\"_parent\"><img src=\"https://colab.research.google.com/assets/colab-badge.svg\" alt=\"Open In Colab\"/></a>"
      ]
    },
    {
      "cell_type": "code",
      "source": [
        "import functools as ft"
      ],
      "metadata": {
        "id": "mMsVCvJb8No9"
      },
      "execution_count": 79,
      "outputs": []
    },
    {
      "cell_type": "code",
      "source": [
        "lefts = []\n",
        "rights = []\n",
        "all = []\n",
        "\n",
        "def to_list(x):\n",
        "\tif(type(x) == list):\n",
        "\t\treturn x\n",
        "\telse:\n",
        "\t\treturn [x]\n",
        "\n",
        "\n",
        "def compare(left, right):\n",
        "\t\tif(type(left) == int and type(right) == int):\n",
        "\t\t\treturn (left < right) - (right < left)\n",
        "\t\telif(type(left) == list and type(right) == list):\n",
        "\t\t\tfor i in range(min(len(left), len(right))):\n",
        "\t\t\t\tj = compare(left[i], right[i])\n",
        "\t\t\t\tif(j != 0):\n",
        "\t\t\t\t\treturn j\n",
        "\t\t\treturn compare(len(left), len(right))\n",
        "\t\telse:\n",
        "\t\t\tleft = to_list(left)\n",
        "\t\t\tright = to_list(right)\n",
        "\t\t\treturn compare(left, right)\n",
        "\n",
        "\n",
        "with open('/input.txt') as f:\n",
        "  lines = [x.strip() for x in f]\n",
        "  for line in lines:\n",
        "    if(line == \"\"):\n",
        "      continue\n",
        "    all.append(eval(line))\n",
        "    if(lines.index(line)%3 == 0):\n",
        "      lefts.append(eval(line))\n",
        "    else:\n",
        "      rights.append(eval(line))"
      ],
      "metadata": {
        "id": "4TCEw-ez7zkK"
      },
      "execution_count": 80,
      "outputs": []
    },
    {
      "cell_type": "markdown",
      "source": [
        "Part 1"
      ],
      "metadata": {
        "id": "m7pikl-G71pW"
      }
    },
    {
      "cell_type": "code",
      "source": [
        "right_orders = []\n",
        "i = 1\n",
        "for l, r in zip(lefts, rights):\n",
        "\tif(compare(l, r) > 0):\n",
        "\t\tright_orders.append(i)\n",
        "\ti += 1\n",
        "\n",
        "print(sum(right_orders))\n"
      ],
      "metadata": {
        "id": "7nV2zG7B1mTH",
        "outputId": "898e8f76-d278-45d3-c72f-c3fc13b2584c",
        "colab": {
          "base_uri": "https://localhost:8080/"
        }
      },
      "execution_count": 69,
      "outputs": [
        {
          "output_type": "stream",
          "name": "stdout",
          "text": [
            "4821\n"
          ]
        }
      ]
    },
    {
      "cell_type": "markdown",
      "source": [
        "Part 2"
      ],
      "metadata": {
        "id": "b_3XwILy739N"
      }
    },
    {
      "cell_type": "code",
      "source": [
        "all.append([[2]])\n",
        "all.append([[6]])\n",
        "all.sort(key= ft.cmp_to_key(compare))\n",
        "all = all[::-1]\n",
        "product = 1\n",
        "for index, s in enumerate(all):\n",
        "\tif(s == [[2]] or s == [[6]]):\n",
        "\t\tproduct *= (index+1)\n",
        "print(product)"
      ],
      "metadata": {
        "colab": {
          "base_uri": "https://localhost:8080/"
        },
        "id": "hKNQLG0sM3cy",
        "outputId": "b494926c-4500-4006-affb-1384a55ae94b"
      },
      "execution_count": 81,
      "outputs": [
        {
          "output_type": "stream",
          "name": "stdout",
          "text": [
            "21890\n"
          ]
        }
      ]
    }
  ]
}