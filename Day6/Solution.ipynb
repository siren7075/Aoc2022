{
  "nbformat": 4,
  "nbformat_minor": 0,
  "metadata": {
    "colab": {
      "provenance": [],
      "authorship_tag": "ABX9TyNXP0LXJPQGsRAxros5MPfn",
      "include_colab_link": true
    },
    "kernelspec": {
      "name": "python3",
      "display_name": "Python 3"
    },
    "language_info": {
      "name": "python"
    }
  },
  "cells": [
    {
      "cell_type": "markdown",
      "metadata": {
        "id": "view-in-github",
        "colab_type": "text"
      },
      "source": [
        "<a href=\"https://colab.research.google.com/github/siren7075/Aoc2022/blob/main/Day6/Solution.ipynb\" target=\"_parent\"><img src=\"https://colab.research.google.com/assets/colab-badge.svg\" alt=\"Open In Colab\"/></a>"
      ]
    },
    {
      "cell_type": "code",
      "source": [
        "from collections import Counter"
      ],
      "metadata": {
        "id": "a0TOfnvk0XuH"
      },
      "execution_count": 15,
      "outputs": []
    },
    {
      "cell_type": "code",
      "source": [
        "def execute(str, distCount):\n",
        "  ti = range(len(str) - distCount)\n",
        "  for i in ti:\n",
        "    subStr = str[i : i + distCount]\n",
        "    freq = Counter(subStr)\n",
        "    if(len(freq) == len(subStr)):\n",
        "      return i + distCount\n",
        "\n",
        "with open('/input.txt', 'r') as f:\n",
        "    str = f.readline().strip()\n",
        "    #part 1\n",
        "    # number = execute(str, 4)\n",
        "    #part 2\n",
        "    number = execute(str, 14)\n",
        "    print(number)\n"
      ],
      "metadata": {
        "id": "FmFmbJbCQw7v",
        "colab": {
          "base_uri": "https://localhost:8080/"
        },
        "outputId": "ff3ade1f-537b-4509-b83a-306926db4a93"
      },
      "execution_count": 18,
      "outputs": [
        {
          "output_type": "stream",
          "name": "stdout",
          "text": [
            "2665\n"
          ]
        }
      ]
    }
  ]
}