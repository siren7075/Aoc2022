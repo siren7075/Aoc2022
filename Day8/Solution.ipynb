{
  "nbformat": 4,
  "nbformat_minor": 0,
  "metadata": {
    "colab": {
      "provenance": [],
      "authorship_tag": "ABX9TyO1GR/H18V3ELN38seLim1l",
      "include_colab_link": true
    },
    "kernelspec": {
      "name": "python3",
      "display_name": "Python 3"
    },
    "language_info": {
      "name": "python"
    }
  },
  "cells": [
    {
      "cell_type": "markdown",
      "metadata": {
        "id": "view-in-github",
        "colab_type": "text"
      },
      "source": [
        "<a href=\"https://colab.research.google.com/github/siren7075/Aoc2022/blob/main/Day8/Solution.ipynb\" target=\"_parent\"><img src=\"https://colab.research.google.com/assets/colab-badge.svg\" alt=\"Open In Colab\"/></a>"
      ]
    },
    {
      "cell_type": "code",
      "source": [
        "import pandas as pd\n",
        "with open ('/input.txt', 'rb') as f:\n",
        "    df = pd.read_csv(f, names=['trees'], converters={'trees': str})\n",
        "\n",
        "    grid = pd.DataFrame()\n",
        "\n",
        "    total_columns = len(list(df['trees'][0]))\n",
        "    total_rows = len(df['trees'])\n",
        "\n",
        "    for i in range(total_rows):\n",
        "      grid = grid.append(pd.DataFrame([list(df['trees'][i])]), ignore_index=True)\n",
        "print(grid)"
      ],
      "metadata": {
        "id": "FmFmbJbCQw7v",
        "outputId": "c4e541e5-613a-4677-fda5-6fc993001d8b",
        "colab": {
          "base_uri": "https://localhost:8080/"
        }
      },
      "execution_count": 27,
      "outputs": [
        {
          "output_type": "stream",
          "name": "stdout",
          "text": [
            "   0  1  2  3  4  5  6  7  8  9   ... 89 90 91 92 93 94 95 96 97 98\n",
            "0   0  1  2  1  1  2  3  1  2  0  ...  4  0  4  1  1  1  0  3  0  1\n",
            "1   2  0  0  2  3  2  3  0  1  4  ...  3  3  0  3  2  2  0  2  3  2\n",
            "2   0  1  2  0  3  2  0  4  3  1  ...  1  3  3  3  0  0  1  2  0  2\n",
            "3   0  1  0  0  2  0  1  3  4  1  ...  4  2  4  0  4  2  2  0  1  1\n",
            "4   2  1  2  0  2  1  3  0  1  0  ...  2  4  1  0  0  1  1  2  0  1\n",
            ".. .. .. .. .. .. .. .. .. .. ..  ... .. .. .. .. .. .. .. .. .. ..\n",
            "94  3  3  2  4  4  4  0  0  3  2  ...  2  1  2  4  3  0  2  4  3  0\n",
            "95  3  2  1  2  1  3  3  4  0  3  ...  3  2  3  2  4  1  3  3  0  1\n",
            "96  3  2  1  0  3  1  3  3  2  1  ...  1  3  1  2  1  3  1  1  0  1\n",
            "97  3  2  1  1  1  3  0  2  0  2  ...  2  0  2  3  3  1  1  3  3  1\n",
            "98  2  3  1  0  0  0  3  3  1  1  ...  0  3  1  1  2  1  0  0  3  0\n",
            "\n",
            "[99 rows x 99 columns]\n"
          ]
        }
      ]
    },
    {
      "cell_type": "markdown",
      "source": [
        "Part 1"
      ],
      "metadata": {
        "id": "rKq3ITA2qPwB"
      }
    },
    {
      "cell_type": "code",
      "source": [
        "\n",
        "edge_trees = total_columns*2 + total_rows*2 - 4\n",
        "visible_trees = 0\n",
        "\n",
        "for i, row in grid.iterrows(): \n",
        "    if i not in [0, total_rows-1]:\n",
        "        for column_index in range(total_columns): \n",
        "            if column_index not in [0, total_columns-1]: \n",
        "                \n",
        "                tree = int(grid.iloc[i,column_index])\n",
        "\n",
        "                max_up = max(list(grid.iloc[:i,column_index]))\n",
        "                max_down = max(list(grid.iloc[i+1:,column_index]))\n",
        "                max_left = max(list(grid.iloc[i,:column_index])) \n",
        "                max_right = max(list(grid.iloc[i,column_index+1:])) \n",
        "\n",
        "                if tree > int(min([max_up,max_down,max_left,max_right])):\n",
        "                    visible_trees += 1\n",
        "\n",
        "total_tall_trees = edge_trees + visible_trees\n",
        "total_tall_trees"
      ],
      "metadata": {
        "id": "-rBO9gy9lD2G",
        "outputId": "ab4c4daa-3c6b-4b18-f736-70543f7a51a9",
        "colab": {
          "base_uri": "https://localhost:8080/"
        }
      },
      "execution_count": 26,
      "outputs": [
        {
          "output_type": "execute_result",
          "data": {
            "text/plain": [
              "1693"
            ]
          },
          "metadata": {},
          "execution_count": 26
        }
      ]
    },
    {
      "cell_type": "markdown",
      "source": [
        "Part 2"
      ],
      "metadata": {
        "id": "qKwAaAdzqTaM"
      }
    },
    {
      "cell_type": "code",
      "source": [
        "def calculate(trees, tree, is_up_or_left):\n",
        "  score = 0\n",
        "  if is_up_or_left:\n",
        "    trees = trees[::-1]\n",
        "  for i, height in enumerate(trees):\n",
        "    if tree > int(height):\n",
        "      score += 1\n",
        "      continue\n",
        "    elif tree <= int(height):\n",
        "      score += 1\n",
        "      break\n",
        "  return score\n",
        "\n",
        "score = 0\n",
        "best_score = 0\n",
        "\n",
        "for ri, row in grid.iterrows():\n",
        "    for ci in range(total_columns): \n",
        "        tree = int(grid.iloc[ri,ci])\n",
        "\n",
        "        left_trees = list(grid.iloc[ri,:ci])\n",
        "        left = calculate(left_trees, tree, True)\n",
        "\n",
        "        right_trees = list(grid.iloc[ri,ci+1:])\n",
        "        right = calculate(right_trees, tree, False)\n",
        "\n",
        "        up_trees = list(grid.iloc[:ri,ci])\n",
        "        up =  calculate(up_trees, tree, True)\n",
        "\n",
        "        down_trees = list(grid.iloc[ri+1:,ci])\n",
        "        down = calculate(down_trees, tree, False)\n",
        "\n",
        "        score = left * right * up * down\n",
        "\n",
        "        if score > best_score:\n",
        "            best_score = score\n",
        "\n",
        "best_score"
      ],
      "metadata": {
        "id": "uIi1AQDrq0u3",
        "outputId": "3cb21444-e36d-4ac3-d2f6-eb6520e97505",
        "colab": {
          "base_uri": "https://localhost:8080/"
        }
      },
      "execution_count": 34,
      "outputs": [
        {
          "output_type": "execute_result",
          "data": {
            "text/plain": [
              "422059"
            ]
          },
          "metadata": {},
          "execution_count": 34
        }
      ]
    }
  ]
}