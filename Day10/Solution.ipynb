{
  "nbformat": 4,
  "nbformat_minor": 0,
  "metadata": {
    "colab": {
      "provenance": [],
      "authorship_tag": "ABX9TyO3b6L1rd5A1ah7aNyqfX5V",
      "include_colab_link": true
    },
    "kernelspec": {
      "name": "python3",
      "display_name": "Python 3"
    },
    "language_info": {
      "name": "python"
    }
  },
  "cells": [
    {
      "cell_type": "markdown",
      "metadata": {
        "id": "view-in-github",
        "colab_type": "text"
      },
      "source": [
        "<a href=\"https://colab.research.google.com/github/siren7075/Aoc2022/blob/main/Day10/Solution.ipynb\" target=\"_parent\"><img src=\"https://colab.research.google.com/assets/colab-badge.svg\" alt=\"Open In Colab\"/></a>"
      ]
    },
    {
      "cell_type": "markdown",
      "source": [
        "Part 1"
      ],
      "metadata": {
        "id": "bEBhYvz0fOf5"
      }
    },
    {
      "cell_type": "code",
      "source": [
        "cycle = 1\n",
        "add = 1\n",
        "length = 20\n",
        "sum = 0\n",
        "cycles = []\n",
        "\n",
        "with open('/input.txt', 'r') as f:\n",
        "    for line in f:\n",
        "      cycle += 1\n",
        "      cycles.append(add)\n",
        "      if not line.startswith('noop'):\n",
        "        cycles.append(add)\n",
        "        if cycle == length:\n",
        "            sum += cycle * add\n",
        "            length += 40\n",
        "        add += int(line[:-1].split(' ')[1])\n",
        "        cycle += 1\n",
        "        \n",
        "      if cycle == length:\n",
        "            sum += cycle * add\n",
        "            length += 40\n",
        "print(sum)\n",
        "print(cycles)\n",
        "\n"
      ],
      "metadata": {
        "id": "FmFmbJbCQw7v",
        "colab": {
          "base_uri": "https://localhost:8080/"
        },
        "outputId": "4bf5aaaa-369d-4bf2-b47d-7d261b5c7ddd"
      },
      "execution_count": 15,
      "outputs": [
        {
          "output_type": "stream",
          "name": "stdout",
          "text": [
            "13440\n",
            "[1, 1, 1, 25, 25, 6, 6, 6, 6, 6, 11, 11, 11, 12, 12, 17, 17, 16, 16, 21, 21, 22, 22, 36, 36, 27, 27, 26, 26, 31, 31, 31, 33, 33, 13, 13, 37, 37, 1, 1, -1, -1, -1, 2, 2, 4, 4, 9, 9, 30, 30, 14, 14, 14, 16, 16, 31, 31, 17, 17, 19, 19, 24, 24, 26, 26, 22, 22, 27, 27, 19, 19, 34, 34, 36, 36, 39, 39, 37, 37, -1, -1, -1, 2, 2, 6, 6, 6, 13, 13, 13, 13, 11, 11, 16, 16, 0, 0, 21, 21, 21, 11, 11, 22, 22, 24, 24, 29, 29, 33, 33, 33, 33, 27, 27, 34, 34, 34, 37, 37, 1, 1, 1, 6, 6, 6, 26, 26, 7, 7, 12, 12, 16, 16, 16, 14, 14, 17, 17, 17, 21, 21, 21, 20, 20, 25, 25, 28, 28, 0, 0, 30, 30, 30, 36, 36, 36, 36, 37, 37, -1, -1, 39, 39, 6, 6, 26, 26, 7, 7, 9, 9, 9, 37, 37, 14, 14, 19, 19, 21, 21, 23, 23, 26, 26, 24, 24, 29, 29, 31, 31, 24, 24, 36, 36, 34, 34, 34, 37, 37, -1, -1, -1, 23, 23, 6, 6, 6, 11, 11, 11, 11, 12, 12, 4, 4, 17, 17, 17, 17, 19, 19, 24, 24, 26, 26, 32, 32, 27, 27, 31, 31, 31, 32, 32, 34, 34, 34, 37, 37]\n"
          ]
        }
      ]
    },
    {
      "cell_type": "markdown",
      "source": [
        "Part 2"
      ],
      "metadata": {
        "id": "I1LNBzQcfL_b"
      }
    },
    {
      "cell_type": "code",
      "source": [
        "CRT = []\n",
        "for i in range(240):\n",
        "  if i % 40 >= cycles[i] - 1 and i % 40 <= cycles[i] + 1:\n",
        "      CRT.append(\"#\")\n",
        "  else:\n",
        "      CRT.append(\".\")\n",
        "for i in range(6):\n",
        "    print(\"\".join(CRT[i * 40 : (i + 1) * 40]))"
      ],
      "metadata": {
        "id": "rF-YxDgbiHi4",
        "outputId": "0cd97196-4fb1-49f6-ac6b-79bf9045de53",
        "colab": {
          "base_uri": "https://localhost:8080/"
        }
      },
      "execution_count": 23,
      "outputs": [
        {
          "output_type": "stream",
          "name": "stdout",
          "text": [
            "###..###..####..##..###...##..####..##..\n",
            "#..#.#..#....#.#..#.#..#.#..#....#.#..#.\n",
            "#..#.###....#..#....#..#.#..#...#..#..#.\n",
            "###..#..#..#...#.##.###..####..#...####.\n",
            "#....#..#.#....#..#.#.#..#..#.#....#..#.\n",
            "#....###..####..###.#..#.#..#.####.#..#.\n"
          ]
        }
      ]
    }
  ]
}