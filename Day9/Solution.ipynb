{
  "nbformat": 4,
  "nbformat_minor": 0,
  "metadata": {
    "colab": {
      "provenance": [],
      "authorship_tag": "ABX9TyNAKrwL1a6DALAzRPgdXG88",
      "include_colab_link": true
    },
    "kernelspec": {
      "name": "python3",
      "display_name": "Python 3"
    },
    "language_info": {
      "name": "python"
    }
  },
  "cells": [
    {
      "cell_type": "markdown",
      "metadata": {
        "id": "view-in-github",
        "colab_type": "text"
      },
      "source": [
        "<a href=\"https://colab.research.google.com/github/siren7075/Aoc2022/blob/main/Day9/Solution.ipynb\" target=\"_parent\"><img src=\"https://colab.research.google.com/assets/colab-badge.svg\" alt=\"Open In Colab\"/></a>"
      ]
    },
    {
      "cell_type": "code",
      "source": [
        "def move_head(move, vec_head):\n",
        "  dir, step = move[0], move[1]\n",
        "  if dir == \"U\":\n",
        "    move_y = 1\n",
        "    move_x = 0\n",
        "  if dir == \"D\":\n",
        "    move_y = -1\n",
        "    move_x = 0\n",
        "  if dir == \"L\":\n",
        "    move_y = 0\n",
        "    move_x = -1\n",
        "  if dir == \"R\":\n",
        "    move_y = 0\n",
        "    move_x = 1\n",
        "  vec_head_moved = (vec_head[0] + move_x,  vec_head[1] + move_y)\n",
        "  return vec_head_moved\n",
        "\n",
        "def move_tail(hx, hy, tx, ty):\n",
        "    if abs(hx - tx) <= 1 and abs(hy - ty) <= 1:\n",
        "        return tx, ty\n",
        "     \n",
        "    if abs(hx - tx) == 2:\n",
        "        tx = hx - 1 if hx > tx else hx + 1\n",
        "        if abs(hy - ty) == 1:\n",
        "            return tx, hy\n",
        "        elif abs(hy - ty) == 2: \n",
        "            ty = hy - 1 if hy > ty else hy + 1\n",
        "            return tx, ty\n",
        "        else:\n",
        "            return tx, ty\n",
        "    if abs(hy - ty) == 2:\n",
        "        ty = hy - 1 if hy > ty else hy + 1\n",
        "        if abs(hx - tx) == 1:\n",
        "            return hx, ty\n",
        "        else:\n",
        "            return tx, ty   \n",
        "\n",
        "visited = []\n",
        "\n",
        "with open('/input.txt', 'r') as f:\n",
        "    lines = f.read().splitlines()\n",
        "    moves = [(x.split()[0], int(x.split()[1])) for x in lines]\n",
        "    #part 1\n",
        "    # length = 2\n",
        "    #part 2\n",
        "    length = 10\n",
        "    vecs = [(0,0) for x in range(length)]\n",
        "    for move in moves:\n",
        "      for i in range(move[1]):\n",
        "        vecs[0] = move_head(move,vecs[0])\n",
        "        for ti in range(1, length):\n",
        "          vecs[ti] = move_tail(vecs[ti-1][0], vecs[ti-1][1], vecs[ti][0], vecs[ti][1])\n",
        "        visited.append(vecs[-1])\n",
        "    print(len(set(visited)))\n",
        "\n"
      ],
      "metadata": {
        "id": "FmFmbJbCQw7v",
        "colab": {
          "base_uri": "https://localhost:8080/"
        },
        "outputId": "2d2e1493-d42b-4d27-a43c-496396c0d7c6"
      },
      "execution_count": 33,
      "outputs": [
        {
          "output_type": "stream",
          "name": "stdout",
          "text": [
            "2511\n"
          ]
        }
      ]
    }
  ]
}