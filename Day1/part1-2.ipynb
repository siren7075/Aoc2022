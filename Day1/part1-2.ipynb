def execute(s: str) -> int:
    ns = sorted(
        sum(int(line) for line in part.splitlines())
        for part in s.split('\n\n')
    )
        # part 1 
        # return max(ns[-3:])
        # part 2
    return sum(ns[-3:])
    
    with open('/input.txt') as f:
      print(execute(f.read()))
